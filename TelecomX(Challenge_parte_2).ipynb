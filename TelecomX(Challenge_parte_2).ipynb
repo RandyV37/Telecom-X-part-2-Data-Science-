{
  "nbformat": 4,
  "nbformat_minor": 0,
  "metadata": {
    "colab": {
      "provenance": [],
      "authorship_tag": "ABX9TyMuft/Ra9t6JOGAxidtZBck",
      "include_colab_link": true
    },
    "kernelspec": {
      "name": "python3",
      "display_name": "Python 3"
    },
    "language_info": {
      "name": "python"
    }
  },
  "cells": [
    {
      "cell_type": "markdown",
      "metadata": {
        "id": "view-in-github",
        "colab_type": "text"
      },
      "source": [
        "<a href=\"https://colab.research.google.com/github/RandyV37/Telecom-X-part-2-Data-Science-/blob/main/TelecomX(Challenge_parte_2).ipynb\" target=\"_parent\"><img src=\"https://colab.research.google.com/assets/colab-badge.svg\" alt=\"Open In Colab\"/></a>"
      ]
    },
    {
      "cell_type": "markdown",
      "source": [
        "##Importar librerias y cargar mi dataset"
      ],
      "metadata": {
        "id": "0O6iWauLM6_o"
      }
    },
    {
      "cell_type": "code",
      "source": [
        "import pandas as pd\n",
        "from sklearn.compose import ColumnTransformer\n",
        "from sklearn.preprocessing import OneHotEncoder, StandardScaler\n",
        "from sklearn.pipeline import Pipeline\n",
        "from sklearn.linear_model import LogisticRegression\n",
        "\n",
        "df = pd.read_csv('TelecomX_Data_Tratada.csv')\n"
      ],
      "metadata": {
        "id": "N-NpRC0jMB4c"
      },
      "execution_count": 19,
      "outputs": []
    },
    {
      "cell_type": "markdown",
      "source": [
        "## Ubicar Variables categoricas"
      ],
      "metadata": {
        "id": "BvaHwMP8Sa0y"
      }
    },
    {
      "cell_type": "code",
      "source": [
        "Variables_Categoricas = df.select_dtypes(include=['object']).columns.tolist()"
      ],
      "metadata": {
        "id": "fHEwJ2z-NDaD"
      },
      "execution_count": 20,
      "outputs": []
    },
    {
      "cell_type": "markdown",
      "source": [
        "## Encoding"
      ],
      "metadata": {
        "id": "hR02HZkhSeNC"
      }
    },
    {
      "cell_type": "code",
      "source": [
        "encoder = OneHotEncoder(\n",
        "    drop='first',\n",
        "    sparse_output=False,\n",
        "    handle_unknown='ignore'\n",
        ")\n",
        "\n",
        "Array_codificado = encoder.fit_transform(df[Variables_Categoricas])\n",
        "Variables_categoricas_codificadas = encoder.get_feature_names_out(Variables_Categoricas)\n",
        "df_x_codificada = pd.DataFrame(Array_codificado, columns=Variables_categoricas_codificadas, index=df.index)\n",
        "variables_numericas = df.drop(columns=Variables_Categoricas)\n",
        "Df_final = pd.concat([variables_numericas, df_x_codificada], axis=1)"
      ],
      "metadata": {
        "id": "YIvZ0NNvREwc"
      },
      "execution_count": 21,
      "outputs": []
    },
    {
      "cell_type": "code",
      "source": [
        "Df_final.value_counts(subset=\"Cliente_Detractor\")"
      ],
      "metadata": {
        "colab": {
          "base_uri": "https://localhost:8080/",
          "height": 178
        },
        "id": "144r9wgoSqwm",
        "outputId": "69278ee3-79a8-40ed-9b58-467e8cbae5bf"
      },
      "execution_count": 25,
      "outputs": [
        {
          "output_type": "execute_result",
          "data": {
            "text/plain": [
              "Cliente_Detractor\n",
              "0    5398\n",
              "1    1869\n",
              "Name: count, dtype: int64"
            ],
            "text/html": [
              "<div>\n",
              "<style scoped>\n",
              "    .dataframe tbody tr th:only-of-type {\n",
              "        vertical-align: middle;\n",
              "    }\n",
              "\n",
              "    .dataframe tbody tr th {\n",
              "        vertical-align: top;\n",
              "    }\n",
              "\n",
              "    .dataframe thead th {\n",
              "        text-align: right;\n",
              "    }\n",
              "</style>\n",
              "<table border=\"1\" class=\"dataframe\">\n",
              "  <thead>\n",
              "    <tr style=\"text-align: right;\">\n",
              "      <th></th>\n",
              "      <th>count</th>\n",
              "    </tr>\n",
              "    <tr>\n",
              "      <th>Cliente_Detractor</th>\n",
              "      <th></th>\n",
              "    </tr>\n",
              "  </thead>\n",
              "  <tbody>\n",
              "    <tr>\n",
              "      <th>0</th>\n",
              "      <td>5398</td>\n",
              "    </tr>\n",
              "    <tr>\n",
              "      <th>1</th>\n",
              "      <td>1869</td>\n",
              "    </tr>\n",
              "  </tbody>\n",
              "</table>\n",
              "</div><br><label><b>dtype:</b> int64</label>"
            ]
          },
          "metadata": {},
          "execution_count": 25
        }
      ]
    },
    {
      "cell_type": "code",
      "source": [],
      "metadata": {
        "id": "PBuyj-4GTW9U"
      },
      "execution_count": null,
      "outputs": []
    }
  ]
}