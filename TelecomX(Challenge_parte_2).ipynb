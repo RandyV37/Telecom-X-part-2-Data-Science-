{
  "nbformat": 4,
  "nbformat_minor": 0,
  "metadata": {
    "colab": {
      "provenance": [],
      "authorship_tag": "ABX9TyOsKDJeYa/VuU9VqgKpLXE2"
    },
    "kernelspec": {
      "name": "python3",
      "display_name": "Python 3"
    },
    "language_info": {
      "name": "python"
    }
  },
  "cells": [
    {
      "cell_type": "markdown",
      "source": [
        "##Importar librerias y cargar mi dataset"
      ],
      "metadata": {
        "id": "0O6iWauLM6_o"
      }
    },
    {
      "cell_type": "code",
      "source": [
        "import pandas as pd\n",
        "from sklearn.compose import ColumnTransformer\n",
        "from sklearn.preprocessing import OneHotEncoder, StandardScaler\n",
        "from sklearn.pipeline import Pipeline\n",
        "from sklearn.linear_model import LogisticRegression\n",
        "\n",
        "df = pd.read_csv('TelecomX_Data_Tratada.csv')\n"
      ],
      "metadata": {
        "id": "N-NpRC0jMB4c"
      },
      "execution_count": 1,
      "outputs": []
    },
    {
      "cell_type": "markdown",
      "source": [
        "## Ubicar Variables categoricas"
      ],
      "metadata": {
        "id": "BvaHwMP8Sa0y"
      }
    },
    {
      "cell_type": "code",
      "source": [
        "Variables_Categoricas = df.select_dtypes(include=['object']).columns.tolist()"
      ],
      "metadata": {
        "id": "fHEwJ2z-NDaD"
      },
      "execution_count": 9,
      "outputs": []
    },
    {
      "cell_type": "markdown",
      "source": [
        "## Encoding"
      ],
      "metadata": {
        "id": "hR02HZkhSeNC"
      }
    },
    {
      "cell_type": "code",
      "source": [
        "encoder = OneHotEncoder(\n",
        "    drop='first',\n",
        "    sparse_output=False,\n",
        "    handle_unknown='ignore'\n",
        ")\n",
        "\n",
        "Array_codificado = encoder.fit_transform(df[Variables_Categoricas])\n",
        "Variables_categoricas_codificadas = encoder.get_feature_names_out(Variables_Categoricas)\n",
        "df_x_codificada = pd.DataFrame(Array_codificado, columns=Variables_categoricas_codificadas, index=df.index)\n",
        "variables_numericas = df.drop(columns=Variables_Categoricas)\n",
        "Df_final = pd.concat([variables_numericas, df_x_codificada], axis=1)"
      ],
      "metadata": {
        "id": "YIvZ0NNvREwc"
      },
      "execution_count": 17,
      "outputs": []
    },
    {
      "cell_type": "code",
      "source": [],
      "metadata": {
        "colab": {
          "base_uri": "https://localhost:8080/",
          "height": 141
        },
        "id": "144r9wgoSqwm",
        "outputId": "815e318e-0efb-4eea-c818-429c48f5d47b"
      },
      "execution_count": 18,
      "outputs": [
        {
          "output_type": "error",
          "ename": "NameError",
          "evalue": "name 'df_final' is not defined",
          "traceback": [
            "\u001b[0;31m---------------------------------------------------------------------------\u001b[0m",
            "\u001b[0;31mNameError\u001b[0m                                 Traceback (most recent call last)",
            "\u001b[0;32m/tmp/ipython-input-1707069766.py\u001b[0m in \u001b[0;36m<cell line: 0>\u001b[0;34m()\u001b[0m\n\u001b[0;32m----> 1\u001b[0;31m \u001b[0mdf_final\u001b[0m\u001b[0;34m.\u001b[0m\u001b[0minfo\u001b[0m\u001b[0;34m(\u001b[0m\u001b[0;34m)\u001b[0m\u001b[0;34m\u001b[0m\u001b[0;34m\u001b[0m\u001b[0m\n\u001b[0m",
            "\u001b[0;31mNameError\u001b[0m: name 'df_final' is not defined"
          ]
        }
      ]
    }
  ]
}